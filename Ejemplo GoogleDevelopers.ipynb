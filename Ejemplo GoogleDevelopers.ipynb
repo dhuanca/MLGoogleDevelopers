{
 "cells": [
  {
   "cell_type": "markdown",
   "metadata": {
    "collapsed": false
   },
   "source": [
    "# ML Google Developers \n",
    "\n",
    "Las presentes sesiones se basan en los videos realizados por el equipo de Google (Josh Gordon).\n",
    "\n",
    "Canal youtube: https://www.youtube.com/watch?v=N9fDIAflCMY&list=PLOU2XLYxmsIIuiBfYad6rFYQU_jL2ryal&index=2\n",
    "\n",
    "### Sesión 1\n",
    "\n",
    "https://www.youtube.com/watch?v=cKxRvEZd3Mw"
   ]
  },
  {
   "cell_type": "code",
   "execution_count": 1,
   "metadata": {
    "collapsed": true
   },
   "outputs": [],
   "source": [
    "from sklearn import tree"
   ]
  },
  {
   "cell_type": "markdown",
   "metadata": {},
   "source": [
    "¿Por qué cambio de palabras por números?.  Pues los modelos usan representaciones matematicas para variables cuantitativas."
   ]
  },
  {
   "cell_type": "code",
   "execution_count": 5,
   "metadata": {
    "collapsed": true
   },
   "outputs": [],
   "source": [
    "features = [[140, 1], [130, 1], [150, 0], [170, 0]]\n",
    "labels = [0,0,1,1]"
   ]
  },
  {
   "cell_type": "code",
   "execution_count": 6,
   "metadata": {
    "collapsed": false
   },
   "outputs": [],
   "source": [
    "clf = tree.DecisionTreeClassifier()\n",
    "clf = clf.fit(features, labels)"
   ]
  },
  {
   "cell_type": "code",
   "execution_count": 7,
   "metadata": {
    "collapsed": false
   },
   "outputs": [
    {
     "name": "stdout",
     "output_type": "stream",
     "text": [
      "[1]\n"
     ]
    }
   ],
   "source": [
    "print (clf.predict([[160, 1]]))"
   ]
  },
  {
   "cell_type": "markdown",
   "metadata": {
    "collapsed": true
   },
   "source": [
    "### Sesión 2\n",
    "\n",
    "https://www.youtube.com/watch?v=tNa99PG8hR8"
   ]
  },
  {
   "cell_type": "markdown",
   "metadata": {},
   "source": [
    "Se usa la base de datos Iris para este experimento. El link para obtener la data es: \n",
    "http://scikit-learn.org/stable/datasets/\n"
   ]
  },
  {
   "cell_type": "code",
   "execution_count": 8,
   "metadata": {
    "collapsed": false
   },
   "outputs": [],
   "source": [
    "from sklearn.datasets import load_iris\n",
    "iris = load_iris()"
   ]
  },
  {
   "cell_type": "markdown",
   "metadata": {},
   "source": [
    "Analizando la metadata"
   ]
  },
  {
   "cell_type": "code",
   "execution_count": 9,
   "metadata": {
    "collapsed": false
   },
   "outputs": [
    {
     "name": "stdout",
     "output_type": "stream",
     "text": [
      "['sepal length (cm)', 'sepal width (cm)', 'petal length (cm)', 'petal width (cm)']\n"
     ]
    }
   ],
   "source": [
    "print iris.feature_names"
   ]
  },
  {
   "cell_type": "code",
   "execution_count": 10,
   "metadata": {
    "collapsed": false
   },
   "outputs": [
    {
     "name": "stdout",
     "output_type": "stream",
     "text": [
      "['setosa' 'versicolor' 'virginica']\n"
     ]
    }
   ],
   "source": [
    "print iris.target_names"
   ]
  },
  {
   "cell_type": "code",
   "execution_count": 11,
   "metadata": {
    "collapsed": false
   },
   "outputs": [
    {
     "name": "stdout",
     "output_type": "stream",
     "text": [
      "[ 5.1  3.5  1.4  0.2]\n"
     ]
    }
   ],
   "source": [
    "print iris.data[0]"
   ]
  },
  {
   "cell_type": "code",
   "execution_count": 12,
   "metadata": {
    "collapsed": false
   },
   "outputs": [
    {
     "name": "stdout",
     "output_type": "stream",
     "text": [
      "2\n"
     ]
    }
   ],
   "source": [
    "\n",
    "print iris.target[100]"
   ]
  },
  {
   "cell_type": "code",
   "execution_count": 13,
   "metadata": {
    "collapsed": false
   },
   "outputs": [
    {
     "name": "stdout",
     "output_type": "stream",
     "text": [
      "Ejemplo 0: etiqueta 0, caracteristica [ 5.1  3.5  1.4  0.2]\n",
      "Ejemplo 1: etiqueta 0, caracteristica [ 4.9  3.   1.4  0.2]\n",
      "Ejemplo 2: etiqueta 0, caracteristica [ 4.7  3.2  1.3  0.2]\n",
      "Ejemplo 3: etiqueta 0, caracteristica [ 4.6  3.1  1.5  0.2]\n",
      "Ejemplo 4: etiqueta 0, caracteristica [ 5.   3.6  1.4  0.2]\n",
      "Ejemplo 5: etiqueta 0, caracteristica [ 5.4  3.9  1.7  0.4]\n",
      "Ejemplo 6: etiqueta 0, caracteristica [ 4.6  3.4  1.4  0.3]\n",
      "Ejemplo 7: etiqueta 0, caracteristica [ 5.   3.4  1.5  0.2]\n",
      "Ejemplo 8: etiqueta 0, caracteristica [ 4.4  2.9  1.4  0.2]\n",
      "Ejemplo 9: etiqueta 0, caracteristica [ 4.9  3.1  1.5  0.1]\n",
      "Ejemplo 10: etiqueta 0, caracteristica [ 5.4  3.7  1.5  0.2]\n",
      "Ejemplo 11: etiqueta 0, caracteristica [ 4.8  3.4  1.6  0.2]\n",
      "Ejemplo 12: etiqueta 0, caracteristica [ 4.8  3.   1.4  0.1]\n",
      "Ejemplo 13: etiqueta 0, caracteristica [ 4.3  3.   1.1  0.1]\n",
      "Ejemplo 14: etiqueta 0, caracteristica [ 5.8  4.   1.2  0.2]\n",
      "Ejemplo 15: etiqueta 0, caracteristica [ 5.7  4.4  1.5  0.4]\n",
      "Ejemplo 16: etiqueta 0, caracteristica [ 5.4  3.9  1.3  0.4]\n",
      "Ejemplo 17: etiqueta 0, caracteristica [ 5.1  3.5  1.4  0.3]\n",
      "Ejemplo 18: etiqueta 0, caracteristica [ 5.7  3.8  1.7  0.3]\n",
      "Ejemplo 19: etiqueta 0, caracteristica [ 5.1  3.8  1.5  0.3]\n",
      "Ejemplo 20: etiqueta 0, caracteristica [ 5.4  3.4  1.7  0.2]\n",
      "Ejemplo 21: etiqueta 0, caracteristica [ 5.1  3.7  1.5  0.4]\n",
      "Ejemplo 22: etiqueta 0, caracteristica [ 4.6  3.6  1.   0.2]\n",
      "Ejemplo 23: etiqueta 0, caracteristica [ 5.1  3.3  1.7  0.5]\n",
      "Ejemplo 24: etiqueta 0, caracteristica [ 4.8  3.4  1.9  0.2]\n",
      "Ejemplo 25: etiqueta 0, caracteristica [ 5.   3.   1.6  0.2]\n",
      "Ejemplo 26: etiqueta 0, caracteristica [ 5.   3.4  1.6  0.4]\n",
      "Ejemplo 27: etiqueta 0, caracteristica [ 5.2  3.5  1.5  0.2]\n",
      "Ejemplo 28: etiqueta 0, caracteristica [ 5.2  3.4  1.4  0.2]\n",
      "Ejemplo 29: etiqueta 0, caracteristica [ 4.7  3.2  1.6  0.2]\n",
      "Ejemplo 30: etiqueta 0, caracteristica [ 4.8  3.1  1.6  0.2]\n",
      "Ejemplo 31: etiqueta 0, caracteristica [ 5.4  3.4  1.5  0.4]\n",
      "Ejemplo 32: etiqueta 0, caracteristica [ 5.2  4.1  1.5  0.1]\n",
      "Ejemplo 33: etiqueta 0, caracteristica [ 5.5  4.2  1.4  0.2]\n",
      "Ejemplo 34: etiqueta 0, caracteristica [ 4.9  3.1  1.5  0.1]\n",
      "Ejemplo 35: etiqueta 0, caracteristica [ 5.   3.2  1.2  0.2]\n",
      "Ejemplo 36: etiqueta 0, caracteristica [ 5.5  3.5  1.3  0.2]\n",
      "Ejemplo 37: etiqueta 0, caracteristica [ 4.9  3.1  1.5  0.1]\n",
      "Ejemplo 38: etiqueta 0, caracteristica [ 4.4  3.   1.3  0.2]\n",
      "Ejemplo 39: etiqueta 0, caracteristica [ 5.1  3.4  1.5  0.2]\n",
      "Ejemplo 40: etiqueta 0, caracteristica [ 5.   3.5  1.3  0.3]\n",
      "Ejemplo 41: etiqueta 0, caracteristica [ 4.5  2.3  1.3  0.3]\n",
      "Ejemplo 42: etiqueta 0, caracteristica [ 4.4  3.2  1.3  0.2]\n",
      "Ejemplo 43: etiqueta 0, caracteristica [ 5.   3.5  1.6  0.6]\n",
      "Ejemplo 44: etiqueta 0, caracteristica [ 5.1  3.8  1.9  0.4]\n",
      "Ejemplo 45: etiqueta 0, caracteristica [ 4.8  3.   1.4  0.3]\n",
      "Ejemplo 46: etiqueta 0, caracteristica [ 5.1  3.8  1.6  0.2]\n",
      "Ejemplo 47: etiqueta 0, caracteristica [ 4.6  3.2  1.4  0.2]\n",
      "Ejemplo 48: etiqueta 0, caracteristica [ 5.3  3.7  1.5  0.2]\n",
      "Ejemplo 49: etiqueta 0, caracteristica [ 5.   3.3  1.4  0.2]\n",
      "Ejemplo 50: etiqueta 1, caracteristica [ 7.   3.2  4.7  1.4]\n",
      "Ejemplo 51: etiqueta 1, caracteristica [ 6.4  3.2  4.5  1.5]\n",
      "Ejemplo 52: etiqueta 1, caracteristica [ 6.9  3.1  4.9  1.5]\n",
      "Ejemplo 53: etiqueta 1, caracteristica [ 5.5  2.3  4.   1.3]\n",
      "Ejemplo 54: etiqueta 1, caracteristica [ 6.5  2.8  4.6  1.5]\n",
      "Ejemplo 55: etiqueta 1, caracteristica [ 5.7  2.8  4.5  1.3]\n",
      "Ejemplo 56: etiqueta 1, caracteristica [ 6.3  3.3  4.7  1.6]\n",
      "Ejemplo 57: etiqueta 1, caracteristica [ 4.9  2.4  3.3  1. ]\n",
      "Ejemplo 58: etiqueta 1, caracteristica [ 6.6  2.9  4.6  1.3]\n",
      "Ejemplo 59: etiqueta 1, caracteristica [ 5.2  2.7  3.9  1.4]\n",
      "Ejemplo 60: etiqueta 1, caracteristica [ 5.   2.   3.5  1. ]\n",
      "Ejemplo 61: etiqueta 1, caracteristica [ 5.9  3.   4.2  1.5]\n",
      "Ejemplo 62: etiqueta 1, caracteristica [ 6.   2.2  4.   1. ]\n",
      "Ejemplo 63: etiqueta 1, caracteristica [ 6.1  2.9  4.7  1.4]\n",
      "Ejemplo 64: etiqueta 1, caracteristica [ 5.6  2.9  3.6  1.3]\n",
      "Ejemplo 65: etiqueta 1, caracteristica [ 6.7  3.1  4.4  1.4]\n",
      "Ejemplo 66: etiqueta 1, caracteristica [ 5.6  3.   4.5  1.5]\n",
      "Ejemplo 67: etiqueta 1, caracteristica [ 5.8  2.7  4.1  1. ]\n",
      "Ejemplo 68: etiqueta 1, caracteristica [ 6.2  2.2  4.5  1.5]\n",
      "Ejemplo 69: etiqueta 1, caracteristica [ 5.6  2.5  3.9  1.1]\n",
      "Ejemplo 70: etiqueta 1, caracteristica [ 5.9  3.2  4.8  1.8]\n",
      "Ejemplo 71: etiqueta 1, caracteristica [ 6.1  2.8  4.   1.3]\n",
      "Ejemplo 72: etiqueta 1, caracteristica [ 6.3  2.5  4.9  1.5]\n",
      "Ejemplo 73: etiqueta 1, caracteristica [ 6.1  2.8  4.7  1.2]\n",
      "Ejemplo 74: etiqueta 1, caracteristica [ 6.4  2.9  4.3  1.3]\n",
      "Ejemplo 75: etiqueta 1, caracteristica [ 6.6  3.   4.4  1.4]\n",
      "Ejemplo 76: etiqueta 1, caracteristica [ 6.8  2.8  4.8  1.4]\n",
      "Ejemplo 77: etiqueta 1, caracteristica [ 6.7  3.   5.   1.7]\n",
      "Ejemplo 78: etiqueta 1, caracteristica [ 6.   2.9  4.5  1.5]\n",
      "Ejemplo 79: etiqueta 1, caracteristica [ 5.7  2.6  3.5  1. ]\n",
      "Ejemplo 80: etiqueta 1, caracteristica [ 5.5  2.4  3.8  1.1]\n",
      "Ejemplo 81: etiqueta 1, caracteristica [ 5.5  2.4  3.7  1. ]\n",
      "Ejemplo 82: etiqueta 1, caracteristica [ 5.8  2.7  3.9  1.2]\n",
      "Ejemplo 83: etiqueta 1, caracteristica [ 6.   2.7  5.1  1.6]\n",
      "Ejemplo 84: etiqueta 1, caracteristica [ 5.4  3.   4.5  1.5]\n",
      "Ejemplo 85: etiqueta 1, caracteristica [ 6.   3.4  4.5  1.6]\n",
      "Ejemplo 86: etiqueta 1, caracteristica [ 6.7  3.1  4.7  1.5]\n",
      "Ejemplo 87: etiqueta 1, caracteristica [ 6.3  2.3  4.4  1.3]\n",
      "Ejemplo 88: etiqueta 1, caracteristica [ 5.6  3.   4.1  1.3]\n",
      "Ejemplo 89: etiqueta 1, caracteristica [ 5.5  2.5  4.   1.3]\n",
      "Ejemplo 90: etiqueta 1, caracteristica [ 5.5  2.6  4.4  1.2]\n",
      "Ejemplo 91: etiqueta 1, caracteristica [ 6.1  3.   4.6  1.4]\n",
      "Ejemplo 92: etiqueta 1, caracteristica [ 5.8  2.6  4.   1.2]\n",
      "Ejemplo 93: etiqueta 1, caracteristica [ 5.   2.3  3.3  1. ]\n",
      "Ejemplo 94: etiqueta 1, caracteristica [ 5.6  2.7  4.2  1.3]\n",
      "Ejemplo 95: etiqueta 1, caracteristica [ 5.7  3.   4.2  1.2]\n",
      "Ejemplo 96: etiqueta 1, caracteristica [ 5.7  2.9  4.2  1.3]\n",
      "Ejemplo 97: etiqueta 1, caracteristica [ 6.2  2.9  4.3  1.3]\n",
      "Ejemplo 98: etiqueta 1, caracteristica [ 5.1  2.5  3.   1.1]\n",
      "Ejemplo 99: etiqueta 1, caracteristica [ 5.7  2.8  4.1  1.3]\n",
      "Ejemplo 100: etiqueta 2, caracteristica [ 6.3  3.3  6.   2.5]\n",
      "Ejemplo 101: etiqueta 2, caracteristica [ 5.8  2.7  5.1  1.9]\n",
      "Ejemplo 102: etiqueta 2, caracteristica [ 7.1  3.   5.9  2.1]\n",
      "Ejemplo 103: etiqueta 2, caracteristica [ 6.3  2.9  5.6  1.8]\n",
      "Ejemplo 104: etiqueta 2, caracteristica [ 6.5  3.   5.8  2.2]\n",
      "Ejemplo 105: etiqueta 2, caracteristica [ 7.6  3.   6.6  2.1]\n",
      "Ejemplo 106: etiqueta 2, caracteristica [ 4.9  2.5  4.5  1.7]\n",
      "Ejemplo 107: etiqueta 2, caracteristica [ 7.3  2.9  6.3  1.8]\n",
      "Ejemplo 108: etiqueta 2, caracteristica [ 6.7  2.5  5.8  1.8]\n",
      "Ejemplo 109: etiqueta 2, caracteristica [ 7.2  3.6  6.1  2.5]\n",
      "Ejemplo 110: etiqueta 2, caracteristica [ 6.5  3.2  5.1  2. ]\n",
      "Ejemplo 111: etiqueta 2, caracteristica [ 6.4  2.7  5.3  1.9]\n",
      "Ejemplo 112: etiqueta 2, caracteristica [ 6.8  3.   5.5  2.1]\n",
      "Ejemplo 113: etiqueta 2, caracteristica [ 5.7  2.5  5.   2. ]\n",
      "Ejemplo 114: etiqueta 2, caracteristica [ 5.8  2.8  5.1  2.4]\n",
      "Ejemplo 115: etiqueta 2, caracteristica [ 6.4  3.2  5.3  2.3]\n",
      "Ejemplo 116: etiqueta 2, caracteristica [ 6.5  3.   5.5  1.8]\n",
      "Ejemplo 117: etiqueta 2, caracteristica [ 7.7  3.8  6.7  2.2]\n",
      "Ejemplo 118: etiqueta 2, caracteristica [ 7.7  2.6  6.9  2.3]\n",
      "Ejemplo 119: etiqueta 2, caracteristica [ 6.   2.2  5.   1.5]\n",
      "Ejemplo 120: etiqueta 2, caracteristica [ 6.9  3.2  5.7  2.3]\n",
      "Ejemplo 121: etiqueta 2, caracteristica [ 5.6  2.8  4.9  2. ]\n",
      "Ejemplo 122: etiqueta 2, caracteristica [ 7.7  2.8  6.7  2. ]\n",
      "Ejemplo 123: etiqueta 2, caracteristica [ 6.3  2.7  4.9  1.8]\n",
      "Ejemplo 124: etiqueta 2, caracteristica [ 6.7  3.3  5.7  2.1]\n",
      "Ejemplo 125: etiqueta 2, caracteristica [ 7.2  3.2  6.   1.8]\n",
      "Ejemplo 126: etiqueta 2, caracteristica [ 6.2  2.8  4.8  1.8]\n",
      "Ejemplo 127: etiqueta 2, caracteristica [ 6.1  3.   4.9  1.8]\n",
      "Ejemplo 128: etiqueta 2, caracteristica [ 6.4  2.8  5.6  2.1]\n",
      "Ejemplo 129: etiqueta 2, caracteristica [ 7.2  3.   5.8  1.6]\n",
      "Ejemplo 130: etiqueta 2, caracteristica [ 7.4  2.8  6.1  1.9]\n",
      "Ejemplo 131: etiqueta 2, caracteristica [ 7.9  3.8  6.4  2. ]\n",
      "Ejemplo 132: etiqueta 2, caracteristica [ 6.4  2.8  5.6  2.2]\n",
      "Ejemplo 133: etiqueta 2, caracteristica [ 6.3  2.8  5.1  1.5]\n",
      "Ejemplo 134: etiqueta 2, caracteristica [ 6.1  2.6  5.6  1.4]\n",
      "Ejemplo 135: etiqueta 2, caracteristica [ 7.7  3.   6.1  2.3]\n",
      "Ejemplo 136: etiqueta 2, caracteristica [ 6.3  3.4  5.6  2.4]\n",
      "Ejemplo 137: etiqueta 2, caracteristica [ 6.4  3.1  5.5  1.8]\n",
      "Ejemplo 138: etiqueta 2, caracteristica [ 6.   3.   4.8  1.8]\n",
      "Ejemplo 139: etiqueta 2, caracteristica [ 6.9  3.1  5.4  2.1]\n",
      "Ejemplo 140: etiqueta 2, caracteristica [ 6.7  3.1  5.6  2.4]\n",
      "Ejemplo 141: etiqueta 2, caracteristica [ 6.9  3.1  5.1  2.3]\n",
      "Ejemplo 142: etiqueta 2, caracteristica [ 5.8  2.7  5.1  1.9]\n",
      "Ejemplo 143: etiqueta 2, caracteristica [ 6.8  3.2  5.9  2.3]\n",
      "Ejemplo 144: etiqueta 2, caracteristica [ 6.7  3.3  5.7  2.5]\n",
      "Ejemplo 145: etiqueta 2, caracteristica [ 6.7  3.   5.2  2.3]\n",
      "Ejemplo 146: etiqueta 2, caracteristica [ 6.3  2.5  5.   1.9]\n",
      "Ejemplo 147: etiqueta 2, caracteristica [ 6.5  3.   5.2  2. ]\n",
      "Ejemplo 148: etiqueta 2, caracteristica [ 6.2  3.4  5.4  2.3]\n",
      "Ejemplo 149: etiqueta 2, caracteristica [ 5.9  3.   5.1  1.8]\n"
     ]
    }
   ],
   "source": [
    "for i in range(len(iris.target)):\n",
    "    print \"Ejemplo %d: etiqueta %s, caracteristica %s\" % (i, iris.target[i], iris.data[i])"
   ]
  },
  {
   "cell_type": "markdown",
   "metadata": {},
   "source": [
    "### Pasos para crear modelos de ML\n",
    "\n",
    "\n",
    "\n",
    "### 1. Importar un dataset"
   ]
  },
  {
   "cell_type": "code",
   "execution_count": 14,
   "metadata": {
    "collapsed": true
   },
   "outputs": [],
   "source": [
    "import numpy as np\n",
    "from sklearn.datasets import load_iris\n",
    "from sklearn import tree"
   ]
  },
  {
   "cell_type": "code",
   "execution_count": 15,
   "metadata": {
    "collapsed": true
   },
   "outputs": [],
   "source": [
    "iris = load_iris()\n",
    "test_idx =[0,50,100]"
   ]
  },
  {
   "cell_type": "markdown",
   "metadata": {},
   "source": [
    "### 2. Entrenar un clasificador"
   ]
  },
  {
   "cell_type": "code",
   "execution_count": 16,
   "metadata": {
    "collapsed": false
   },
   "outputs": [],
   "source": [
    "# Datos de entrenamiento\n",
    "train_target = np.delete(iris.target, test_idx)\n",
    "train_data = np.delete(iris.data, test_idx, axis=0)"
   ]
  },
  {
   "cell_type": "code",
   "execution_count": 17,
   "metadata": {
    "collapsed": true
   },
   "outputs": [],
   "source": [
    "# Datos de prueba\n",
    "test_target = iris.target[test_idx]\n",
    "test_data = iris.data[test_idx]"
   ]
  },
  {
   "cell_type": "code",
   "execution_count": 18,
   "metadata": {
    "collapsed": false
   },
   "outputs": [
    {
     "data": {
      "text/plain": [
       "DecisionTreeClassifier(class_weight=None, criterion='gini', max_depth=None,\n",
       "            max_features=None, max_leaf_nodes=None, min_samples_leaf=1,\n",
       "            min_samples_split=2, min_weight_fraction_leaf=0.0,\n",
       "            presort=False, random_state=None, splitter='best')"
      ]
     },
     "execution_count": 18,
     "metadata": {},
     "output_type": "execute_result"
    }
   ],
   "source": [
    "clf = tree.DecisionTreeClassifier()\n",
    "clf.fit(train_data, train_target)"
   ]
  },
  {
   "cell_type": "code",
   "execution_count": 19,
   "metadata": {
    "collapsed": false
   },
   "outputs": [
    {
     "name": "stdout",
     "output_type": "stream",
     "text": [
      "[0 1 2]\n"
     ]
    }
   ],
   "source": [
    "print test_target"
   ]
  },
  {
   "cell_type": "code",
   "execution_count": 20,
   "metadata": {
    "collapsed": false
   },
   "outputs": [
    {
     "name": "stdout",
     "output_type": "stream",
     "text": [
      "[0 1 2]\n"
     ]
    }
   ],
   "source": [
    "print clf.predict(test_data)"
   ]
  },
  {
   "cell_type": "markdown",
   "metadata": {},
   "source": [
    "### 3. Predecir una nueva etiqueta para una nueva flor"
   ]
  },
  {
   "cell_type": "markdown",
   "metadata": {},
   "source": [
    "Para generar los graficos se utiliza una libreria independiente: http://graphviz.org/.\n",
    "\n",
    "Existe un problema con pydot. La versión cambio asi que hay que instalar la anterior para no tener problemas. En algunos casos ;) http://stackoverflow.com/questions/15951748/pydot-and-graphviz-error-couldnt-import-dot-parser-loading-of-dot-files-will\n",
    "\n",
    "pip uninstall pyparsing\n",
    "\n",
    "pip install -Iv https://pypi.python.org/packages/source/p/pyparsing/pyparsing-1.5.7.tar.gz#md5=9be0fcdcc595199c646ab317c1d9a709\n",
    "\n",
    "pip install pydot\n"
   ]
  },
  {
   "cell_type": "code",
   "execution_count": 21,
   "metadata": {
    "collapsed": true
   },
   "outputs": [],
   "source": [
    "from sklearn.externals.six import StringIO"
   ]
  },
  {
   "cell_type": "code",
   "execution_count": 22,
   "metadata": {
    "collapsed": false
   },
   "outputs": [],
   "source": [
    "# viz code \n",
    "from sklearn.externals.six import StringIO\n",
    "import pydot \n",
    "dot_data = StringIO() \n",
    "tree.export_graphviz(clf, \n",
    "                         out_file=dot_data,  \n",
    "                         feature_names=iris.feature_names,  \n",
    "                         class_names=iris.target_names,  \n",
    "                         filled=True, rounded=True,  \n",
    "                         impurity=False) \n",
    "graph = pydot.graph_from_dot_data(dot_data.getvalue()) \n"
   ]
  },
  {
   "cell_type": "code",
   "execution_count": 23,
   "metadata": {
    "collapsed": false
   },
   "outputs": [
    {
     "data": {
      "text/plain": [
       "True"
      ]
     },
     "execution_count": 23,
     "metadata": {},
     "output_type": "execute_result"
    }
   ],
   "source": [
    "graph.write_pdf(\"iris.pdf\") "
   ]
  },
  {
   "cell_type": "markdown",
   "metadata": {},
   "source": [
    "Para visualizar el archivo pdf que se crea:  http://stackoverflow.com/questions/19470099/view-pdf-image-in-an-ipython-notebook"
   ]
  },
  {
   "cell_type": "code",
   "execution_count": 24,
   "metadata": {
    "collapsed": false
   },
   "outputs": [],
   "source": [
    "class PDF(object):\n",
    "    def __init__(self, pdf, size=(200,200)):\n",
    "        self.pdf = pdf\n",
    "        self.size = size\n",
    "    def _repr_html_(self):\n",
    "        return '<iframe src={0} width={1[0]} height={1[1]}></iframe>'.format(self.pdf, self.size)\n",
    "    \n",
    "    def _repr_latex_(self):\n",
    "        return r'\\includegraphics[width=1.0\\textwidth]{{{0}}}'.format(self.pdf)\n",
    "\n",
    "    "
   ]
  },
  {
   "cell_type": "code",
   "execution_count": 25,
   "metadata": {
    "collapsed": false
   },
   "outputs": [
    {
     "data": {
      "text/html": [
       "<iframe src=iris.pdf width=800 height=450></iframe>"
      ],
      "text/latex": [
       "\\includegraphics[width=1.0\\textwidth]{iris.pdf}"
      ],
      "text/plain": [
       "<__main__.PDF at 0x7fd776120b90>"
      ]
     },
     "execution_count": 25,
     "metadata": {},
     "output_type": "execute_result"
    }
   ],
   "source": [
    "PDF('iris.pdf', size=(800,450))"
   ]
  },
  {
   "cell_type": "markdown",
   "metadata": {},
   "source": [
    "### Sesión 3. Good Feature"
   ]
  },
  {
   "cell_type": "markdown",
   "metadata": {},
   "source": [
    "https://www.youtube.com/watch?v=N9fDIAflCMY&list=PLOU2XLYxmsIIuiBfYad6rFYQU_jL2ryal&index=2"
   ]
  },
  {
   "cell_type": "code",
   "execution_count": 26,
   "metadata": {
    "collapsed": true
   },
   "outputs": [],
   "source": [
    "import numpy as np\n",
    "import matplotlib.pyplot as plt\n",
    "%matplotlib inline"
   ]
  },
  {
   "cell_type": "code",
   "execution_count": 27,
   "metadata": {
    "collapsed": true
   },
   "outputs": [],
   "source": [
    "greyhounds = 500\n",
    "labs = 500"
   ]
  },
  {
   "cell_type": "code",
   "execution_count": 28,
   "metadata": {
    "collapsed": true
   },
   "outputs": [],
   "source": [
    "grey_height = 28 + 4 * np.random.randn(greyhounds)\n",
    "lab_height = 24 + 4 * np.random.randn(labs)"
   ]
  },
  {
   "cell_type": "code",
   "execution_count": 29,
   "metadata": {
    "collapsed": false
   },
   "outputs": [
    {
     "data": {
      "text/plain": [
       "([array([   0.,    1.,   16.,   39.,   89.,  156.,  129.,   47.,   21.,    2.]),\n",
       "  array([   7.,   23.,   87.,  161.,  218.,  249.,  172.,   59.,   22.,    2.])],\n",
       " array([ 11.87616462,  14.74372904,  17.61129345,  20.47885787,\n",
       "         23.34642228,  26.2139867 ,  29.08155111,  31.94911553,\n",
       "         34.81667994,  37.68424436,  40.55180878]),\n",
       " <a list of 2 Lists of Patches objects>)"
      ]
     },
     "execution_count": 29,
     "metadata": {},
     "output_type": "execute_result"
    },
    {
     "data": {
      "image/png": "[encoded data removed]",
      "text/plain": [
       "<matplotlib.figure.Figure at 0x7fd776120910>"
      ]
     },
     "metadata": {},
     "output_type": "display_data"
    }
   ],
   "source": [
    "plt.hist([grey_height, lab_height], stacked=True, color=['r','b'])\n"
   ]
  },
  {
   "cell_type": "markdown",
   "metadata": {},
   "source": [
    "Correlacion Ver\n",
    "\n",
    "\n",
    "Continuando Ahora se probará la tecnica del vecino mas cercano\n",
    "\n"
   ]
  },
  {
   "cell_type": "code",
   "execution_count": 30,
   "metadata": {
    "collapsed": false
   },
   "outputs": [
    {
     "data": {
      "text/plain": [
       "'0.17.1'"
      ]
     },
     "execution_count": 30,
     "metadata": {},
     "output_type": "execute_result"
    }
   ],
   "source": [
    "import sklearn\n",
    "sklearn.__version__"
   ]
  },
  {
   "cell_type": "code",
   "execution_count": 31,
   "metadata": {
    "collapsed": true
   },
   "outputs": [],
   "source": [
    "from sklearn.neighbors import NearestNeighbors"
   ]
  },
  {
   "cell_type": "code",
   "execution_count": 32,
   "metadata": {
    "collapsed": false
   },
   "outputs": [],
   "source": [
    "my_classifier = NearestNeighbors(n_neighbors=1)"
   ]
  },
  {
   "cell_type": "markdown",
   "metadata": {},
   "source": [
    "### Session 4\n",
    "\n",
    "https://www.youtube.com/watch?v=84gqSbLcBFE&list=PLOU2XLYxmsIIuiBfYad6rFYQU_jL2ryal&index=1"
   ]
  },
  {
   "cell_type": "code",
   "execution_count": 33,
   "metadata": {
    "collapsed": true
   },
   "outputs": [],
   "source": [
    "from sklearn import datasets\n",
    "iris = datasets.load_iris()"
   ]
  },
  {
   "cell_type": "code",
   "execution_count": 34,
   "metadata": {
    "collapsed": true
   },
   "outputs": [],
   "source": [
    "X = iris.data\n",
    "y = iris.target"
   ]
  },
  {
   "cell_type": "code",
   "execution_count": 35,
   "metadata": {
    "collapsed": true
   },
   "outputs": [],
   "source": [
    "from sklearn.cross_validation import train_test_split\n",
    "X_train, X_test, y_train, y_test = train_test_split(X,y,test_size= .5)"
   ]
  },
  {
   "cell_type": "code",
   "execution_count": 36,
   "metadata": {
    "collapsed": true
   },
   "outputs": [],
   "source": [
    "from sklearn import tree\n",
    "my_classifier = tree.DecisionTreeClassifier()"
   ]
  },
  {
   "cell_type": "code",
   "execution_count": 37,
   "metadata": {
    "collapsed": false
   },
   "outputs": [
    {
     "data": {
      "text/plain": [
       "DecisionTreeClassifier(class_weight=None, criterion='gini', max_depth=None,\n",
       "            max_features=None, max_leaf_nodes=None, min_samples_leaf=1,\n",
       "            min_samples_split=2, min_weight_fraction_leaf=0.0,\n",
       "            presort=False, random_state=None, splitter='best')"
      ]
     },
     "execution_count": 37,
     "metadata": {},
     "output_type": "execute_result"
    }
   ],
   "source": [
    "my_classifier.fit(X_train, y_train)"
   ]
  },
  {
   "cell_type": "code",
   "execution_count": 38,
   "metadata": {
    "collapsed": true
   },
   "outputs": [],
   "source": [
    "predictions = my_classifier.predict(X_test)"
   ]
  },
  {
   "cell_type": "code",
   "execution_count": 39,
   "metadata": {
    "collapsed": false
   },
   "outputs": [
    {
     "name": "stdout",
     "output_type": "stream",
     "text": [
      "[0 0 2 2 2 1 0 0 0 1 2 2 1 0 0 0 2 2 0 0 1 2 1 2 1 1 1 1 0 0 1 1 2 0 1 2 2\n",
      " 1 0 0 1 1 0 0 2 0 0 1 1 0 2 2 1 2 0 1 2 2 2 1 0 2 0 1 2 1 0 2 0 2 2 0 1 2\n",
      " 0]\n"
     ]
    }
   ],
   "source": [
    "print predictions"
   ]
  },
  {
   "cell_type": "code",
   "execution_count": 40,
   "metadata": {
    "collapsed": true
   },
   "outputs": [],
   "source": [
    "from sklearn.metrics import accuracy_score"
   ]
  },
  {
   "cell_type": "code",
   "execution_count": 41,
   "metadata": {
    "collapsed": false
   },
   "outputs": [
    {
     "name": "stdout",
     "output_type": "stream",
     "text": [
      "0.96\n"
     ]
    }
   ],
   "source": [
    "print accuracy_score(y_test, predictions)"
   ]
  },
  {
   "cell_type": "code",
   "execution_count": 42,
   "metadata": {
    "collapsed": true
   },
   "outputs": [],
   "source": [
    "from sklearn.neighbors import KNeighborsClassifier\n",
    "my_classifier = KNeighborsClassifier()"
   ]
  },
  {
   "cell_type": "code",
   "execution_count": 43,
   "metadata": {
    "collapsed": true
   },
   "outputs": [],
   "source": [
    "my_classifier.fit(X_train, y_train)\n",
    "predictions = my_classifier.predict(X_test)"
   ]
  },
  {
   "cell_type": "code",
   "execution_count": 44,
   "metadata": {
    "collapsed": false
   },
   "outputs": [
    {
     "name": "stdout",
     "output_type": "stream",
     "text": [
      "0.986666666667\n"
     ]
    }
   ],
   "source": [
    "print accuracy_score(y_test, predictions)"
   ]
  }
 ],
 "metadata": {
  "kernelspec": {
   "display_name": "Python 2",
   "language": "python",
   "name": "python2"
  },
  "language_info": {
   "codemirror_mode": {
    "name": "ipython",
    "version": 2
   },
   "file_extension": ".py",
   "mimetype": "text/x-python",
   "name": "python",
   "nbconvert_exporter": "python",
   "pygments_lexer": "ipython2",
   "version": "2.7.11"
  }
 },
 "nbformat": 4,
 "nbformat_minor": 0
}
